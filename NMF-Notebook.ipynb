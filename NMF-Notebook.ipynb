{
 "cells": [
  {
   "cell_type": "code",
   "execution_count": 43,
   "metadata": {},
   "outputs": [],
   "source": [
    "import numpy as np\n",
    "import pandas as pd\n",
    "import matplotlib.pyplot as plt\n",
    "from sklearn.decomposition import NMF"
   ]
  },
  {
   "cell_type": "markdown",
   "metadata": {},
   "source": [
    "####"
   ]
  },
  {
   "cell_type": "code",
   "execution_count": 44,
   "metadata": {},
   "outputs": [],
   "source": [
    "def ratings_matrix():\n",
    "    ratings = pd.read_csv(\"movies/ratings.csv\")\n",
    "    data_mat = np.array(ratings.pivot(index = 'movieId', columns = 'userId', values = 'rating'))\n",
    "    data_mat_rev = np.nan_to_num(data_mat)\n",
    "    return data_mat_rev"
   ]
  },
  {
   "cell_type": "code",
   "execution_count": 45,
   "metadata": {},
   "outputs": [],
   "source": [
    "def books_data_matrix():\n",
    "    dataset = BookCrossingReader(0.8,0.9)\n",
    "    t = dataset.URM_train.todense().T\n",
    "    return t"
   ]
  },
  {
   "cell_type": "code",
   "execution_count": 46,
   "metadata": {},
   "outputs": [],
   "source": [
    "X = ratings_matrix()\n",
    "# X = books_data_matrix()"
   ]
  },
  {
   "cell_type": "code",
   "execution_count": 47,
   "metadata": {},
   "outputs": [
    {
     "data": {
      "text/plain": [
       "(9724, 610)"
      ]
     },
     "execution_count": 47,
     "metadata": {},
     "output_type": "execute_result"
    }
   ],
   "source": [
    "X.shape"
   ]
  },
  {
   "cell_type": "code",
   "execution_count": 48,
   "metadata": {},
   "outputs": [],
   "source": [
    "h, w = X.shape\n",
    "inner = 50"
   ]
  },
  {
   "cell_type": "code",
   "execution_count": 49,
   "metadata": {},
   "outputs": [],
   "source": [
    "W = np.random.random((h, inner))\n",
    "H = np.random.random((inner, w))"
   ]
  },
  {
   "cell_type": "code",
   "execution_count": 50,
   "metadata": {},
   "outputs": [],
   "source": [
    "def cost(X, W, H):\n",
    "    Xwh = np.dot(W, H)\n",
    "    E = X - Xwh\n",
    "    return np.mean((E)**2)"
   ]
  },
  {
   "cell_type": "code",
   "execution_count": 51,
   "metadata": {},
   "outputs": [],
   "source": [
    "def update(X, W, H):\n",
    "    N = np.dot(X, H.T)\n",
    "    D = np.dot(W, H).dot(H.T)\n",
    "    U = np.divide(N, D)\n",
    "    Wu = np.multiply(W, U)\n",
    "    return Wu"
   ]
  },
  {
   "cell_type": "code",
   "execution_count": 52,
   "metadata": {},
   "outputs": [],
   "source": [
    "def optimize(X, W, H):\n",
    "    Wt = update(X, W, H)\n",
    "    Ht = update(X.T, H.T, Wt.T)\n",
    "    cost_value = cost(X, Wt, Ht.T)\n",
    "    return Wt, Ht.T, cost_value"
   ]
  },
  {
   "cell_type": "code",
   "execution_count": null,
   "metadata": {},
   "outputs": [],
   "source": []
  },
  {
   "cell_type": "code",
   "execution_count": 53,
   "metadata": {
    "scrolled": true
   },
   "outputs": [
    {
     "name": "stdout",
     "output_type": "stream",
     "text": [
      "Cost value: 0.18074025399936222\n",
      "Cost value: 0.17610526900973308\n",
      "Cost value: 0.17185425745054927\n",
      "Cost value: 0.1615174552479625\n",
      "Cost value: 0.14856125188690025\n",
      "Cost value: 0.13883902656726022\n",
      "Cost value: 0.1318997053858367\n",
      "Cost value: 0.12678966185222912\n",
      "Cost value: 0.12274740109037288\n",
      "Cost value: 0.11944747501367592\n",
      "Cost value: 0.11671920078727503\n",
      "Cost value: 0.11447673636257662\n",
      "Cost value: 0.1126700276407033\n",
      "Cost value: 0.11120495841739103\n",
      "Cost value: 0.11000296559563953\n",
      "Cost value: 0.10902132891435233\n",
      "Cost value: 0.10821357968533783\n",
      "Cost value: 0.10755169283572853\n",
      "Cost value: 0.10700753472636483\n",
      "Cost value: 0.10655648759970054\n",
      "Cost value: 0.10617913873823656\n",
      "Cost value: 0.10585980097856139\n",
      "Cost value: 0.10558364781571275\n",
      "Cost value: 0.10534254491247996\n",
      "Cost value: 0.10513174715470498\n",
      "Cost value: 0.10494840672504255\n",
      "Cost value: 0.10478734344909614\n",
      "Cost value: 0.10464473639996724\n",
      "Cost value: 0.10452003074241333\n",
      "Cost value: 0.10440985449447059\n",
      "Cost value: 0.10431030402364942\n",
      "Cost value: 0.10422008174531815\n",
      "Cost value: 0.10413742378252097\n",
      "Cost value: 0.10406055354012778\n",
      "Cost value: 0.10398791123437261\n",
      "Cost value: 0.10391827068867171\n",
      "Cost value: 0.10385166263084145\n",
      "Cost value: 0.10378908207165448\n",
      "Cost value: 0.10372992586623729\n",
      "Cost value: 0.10367380826311545\n",
      "Cost value: 0.10362112216084453\n",
      "Cost value: 0.10357098046065402\n",
      "Cost value: 0.10352279621915769\n",
      "Cost value: 0.1034764758054177\n",
      "Cost value: 0.10343192307439074\n",
      "Cost value: 0.10338888615927683\n",
      "Cost value: 0.10334739446451008\n",
      "Cost value: 0.10330774039101022\n",
      "Cost value: 0.10326954421301786\n",
      "Cost value: 0.10323155040913234\n",
      "Cost value: 0.10319401600182852\n",
      "Cost value: 0.10315782976583449\n",
      "Cost value: 0.10312309099937499\n",
      "Cost value: 0.1030896907602431\n",
      "Cost value: 0.10305756740336232\n",
      "Cost value: 0.10302717380549697\n",
      "Cost value: 0.10299838080135963\n",
      "Cost value: 0.10297093298575788\n",
      "Cost value: 0.10294496859696183\n",
      "Cost value: 0.10292064132511947\n",
      "Cost value: 0.10289698168812328\n",
      "Cost value: 0.1028744966625168\n",
      "Cost value: 0.10285281090524342\n",
      "Cost value: 0.10283135111930684\n",
      "Cost value: 0.10281107530487442\n",
      "Cost value: 0.10279158045252379\n",
      "Cost value: 0.10277269438844802\n",
      "Cost value: 0.10275431274064196\n",
      "Cost value: 0.10273673015139125\n",
      "Cost value: 0.10271971760802248\n",
      "Cost value: 0.102703354461311\n",
      "Cost value: 0.10268770600013129\n",
      "Cost value: 0.10267246976443918\n",
      "Cost value: 0.1026575000019713\n",
      "Cost value: 0.10264289714870255\n"
     ]
    }
   ],
   "source": [
    "for i in range(150):\n",
    "    W, H, c = optimize(X, W, H)\n",
    "    if i % 2 == 0:\n",
    "        print(\"Cost value: {}\".format(c))"
   ]
  },
  {
   "cell_type": "code",
   "execution_count": 54,
   "metadata": {},
   "outputs": [],
   "source": [
    "W = np.round(W, 2)\n",
    "H = np.round(H, 2)"
   ]
  },
  {
   "cell_type": "code",
   "execution_count": 55,
   "metadata": {},
   "outputs": [],
   "source": [
    "Xr = W.dot(H)"
   ]
  },
  {
   "cell_type": "code",
   "execution_count": 59,
   "metadata": {},
   "outputs": [
    {
     "data": {
      "text/plain": [
       "array([[3., 0., 0., ..., 2., 1., 5.],\n",
       "       [1., 0., 0., ..., 1., 1., 0.],\n",
       "       [1., 0., 0., ..., 1., 0., 0.],\n",
       "       ...,\n",
       "       [0., 0., 0., ..., 0., 0., 0.],\n",
       "       [0., 0., 0., ..., 0., 0., 0.],\n",
       "       [0., 0., 0., ..., 0., 0., 0.]])"
      ]
     },
     "execution_count": 59,
     "metadata": {},
     "output_type": "execute_result"
    }
   ],
   "source": [
    "np.round(Xr, 0)"
   ]
  },
  {
   "cell_type": "code",
   "execution_count": 60,
   "metadata": {},
   "outputs": [
    {
     "data": {
      "text/plain": [
       "array([[4. , 0. , 0. , ..., 2.5, 3. , 5. ],\n",
       "       [0. , 0. , 0. , ..., 2. , 0. , 0. ],\n",
       "       [4. , 0. , 0. , ..., 2. , 0. , 0. ],\n",
       "       ...,\n",
       "       [0. , 0. , 0. , ..., 0. , 0. , 0. ],\n",
       "       [0. , 0. , 0. , ..., 0. , 0. , 0. ],\n",
       "       [0. , 0. , 0. , ..., 0. , 0. , 0. ]])"
      ]
     },
     "execution_count": 60,
     "metadata": {},
     "output_type": "execute_result"
    }
   ],
   "source": [
    "X"
   ]
  },
  {
   "cell_type": "code",
   "execution_count": null,
   "metadata": {},
   "outputs": [],
   "source": []
  },
  {
   "cell_type": "code",
   "execution_count": null,
   "metadata": {},
   "outputs": [],
   "source": []
  },
  {
   "cell_type": "code",
   "execution_count": null,
   "metadata": {},
   "outputs": [],
   "source": []
  },
  {
   "cell_type": "code",
   "execution_count": 243,
   "metadata": {},
   "outputs": [],
   "source": []
  },
  {
   "cell_type": "code",
   "execution_count": 254,
   "metadata": {},
   "outputs": [],
   "source": []
  },
  {
   "cell_type": "code",
   "execution_count": 3,
   "metadata": {},
   "outputs": [],
   "source": [
    "import numpy as np\n",
    "import scipy.sparse as sps\n",
    "import os\n",
    "import random\n",
    "import sys\n",
    "import pandas as pd\n",
    "\n",
    "\n",
    "class BookCrossingReader(object):\n",
    "    #TODO: aggiungere validation option.\n",
    "    def __init__(self, train_test_split=None, train_validation_split=None, delete_popular=None, top_popular_threshold=0.33):\n",
    "        '''\n",
    "        :param train_test_split: is the percentage of the training set\n",
    "        '''\n",
    "\n",
    "\n",
    "        dir = 'BX-CSV-Dump/'\n",
    "        filename = dir+\"/BX-Book-Ratings.csv\"\n",
    "        from numpy import genfromtxt\n",
    "        fileHandle = pd.read_csv(filename, sep=\";\", encoding=\"ISO-8859-1\")\n",
    "        #fileHandle = open(filename, \"r\")\n",
    "\n",
    "        rows, cols, vals = [], [], []\n",
    "        numCells = 0\n",
    "        fileHandle['ISBN'], levels = pd.factorize(fileHandle['ISBN'])\n",
    "        fileHandle['User-ID'], levels = pd.factorize(fileHandle['User-ID'])\n",
    "        print(fileHandle.iloc[0:100])\n",
    "\n",
    "        #fileHandle['User'], levels = pd.factorize(fileHandle['ISBN'] )\n",
    "\n",
    "        #print(fileHandle)\n",
    "\n",
    "        #These arrays are sorted by user\n",
    "        self.users = np.array(fileHandle['User-ID']).astype(int)\n",
    "        self.movies = np.array(fileHandle['ISBN']).astype(int)\n",
    "        self.ratings = np.array(fileHandle['Book-Rating']).astype(float)\n",
    "\n",
    "        if delete_popular:\n",
    "            unique, counts = np.unique(self.movies, return_counts=True)\n",
    "            dictionary = dict(zip(unique, counts))\n",
    "            sorted_dictionary = sorted(dictionary.items(), key=lambda x: x[1])\n",
    "            cutting_index = round(len(sorted_dictionary)*(1-top_popular_threshold))\n",
    "            least_popular_item = [x[0] for x in sorted_dictionary[:cutting_index]]\n",
    "\n",
    "            popular_mask = []\n",
    "            for item in self.movies:\n",
    "\n",
    "                if item in least_popular_item:\n",
    "                    popular_mask.append(True)\n",
    "                else:\n",
    "                    popular_mask.append(False)\n",
    "\n",
    "            self.movies = self.movies[popular_mask]\n",
    "            self.users = self.users[popular_mask]\n",
    "            self.ratings = self.ratings[popular_mask]\n",
    "\n",
    "        self.unique_movies = np.sort(np.unique(self.movies)).astype(int)\n",
    "        self.unique_users = np.sort(np.unique(self.users))\n",
    "        '''\n",
    "        #These arrays are sorted by item\n",
    "        self.users_by_item = np.array(data2[:,0])\n",
    "        self.items_by_item = np.array(data2[:,1])\n",
    "        self.ratings_by_item = np.array(data2[:,2])\n",
    "   \n",
    "        # gli id degli users partono da 1 e sono tutti consecutivi, quindi l'unica\n",
    "        # riga della URM che ha tutti 0 è la prima (riga 0) che quindi eliminiamo\n",
    "        '''\n",
    "        URM_all_partial = sps.csr_matrix((self.ratings, (self.users, self.movies)), dtype=np.float32)\n",
    "        self.URM_all = URM_all_partial\n",
    "        self.URM_all = self.URM_all.tocoo()\n",
    "\n",
    "        num_interactions = self.URM_all.nnz\n",
    "\n",
    "        train_mask = np.random.choice([True, False], num_interactions, p=[train_test_split, 1 - train_test_split])\n",
    "        test_mask = np.logical_not(train_mask)\n",
    "\n",
    "        if train_validation_split is not None:\n",
    "\n",
    "            splitted_test_mask = [random.choice([True, False]) if x else False for x in test_mask]\n",
    "            validation_mask = np.logical_and(np.logical_not(splitted_test_mask), test_mask)\n",
    "\n",
    "            self.URM_validation = sps.csr_matrix((self.ratings[validation_mask], (self.users[validation_mask], self.movies[validation_mask])))\n",
    "\n",
    "        elif train_test_split is not None:\n",
    "            train_mask = np.random.choice([True, False], num_interactions, p=[train_test_split, 1 - train_test_split])\n",
    "\n",
    "            test_mask = np.logical_not(train_mask)\n",
    "\n",
    "        else:\n",
    "            raise Exception(\"One between train_test_split and train_validation_split must be valid\")\n",
    "\n",
    "        #mask = np.random.choice([True, False], len(self.unique_users), p=[0.3, 0.7])\n",
    "\n",
    "        self.URM_test = sps.csr_matrix((self.ratings[test_mask], (self.users[test_mask], self.movies[test_mask])))\n",
    "        print(self.URM_test.nnz)\n",
    "        print(self.URM_test.shape[0])\n",
    "        self.URM_test = self.URM_test[0:1000, :]\n",
    "        print(self.URM_test.nnz)\n",
    "\n",
    "        self.URM_train = sps.csr_matrix((self.ratings[train_mask], (self.users[train_mask], self.movies[train_mask])))\n",
    "        self.URM_train = self.URM_train[0:1000, :]"
   ]
  },
  {
   "cell_type": "code",
   "execution_count": 14,
   "metadata": {},
   "outputs": [],
   "source": []
  },
  {
   "cell_type": "code",
   "execution_count": 11,
   "metadata": {},
   "outputs": [],
   "source": []
  },
  {
   "cell_type": "code",
   "execution_count": null,
   "metadata": {},
   "outputs": [],
   "source": []
  },
  {
   "cell_type": "code",
   "execution_count": null,
   "metadata": {},
   "outputs": [],
   "source": []
  }
 ],
 "metadata": {
  "kernelspec": {
   "display_name": "Python 3",
   "language": "python",
   "name": "python3"
  },
  "language_info": {
   "codemirror_mode": {
    "name": "ipython",
    "version": 3
   },
   "file_extension": ".py",
   "mimetype": "text/x-python",
   "name": "python",
   "nbconvert_exporter": "python",
   "pygments_lexer": "ipython3",
   "version": "3.7.0"
  }
 },
 "nbformat": 4,
 "nbformat_minor": 2
}
