{
 "cells": [
  {
   "cell_type": "code",
   "execution_count": 1,
   "metadata": {},
   "outputs": [],
   "source": [
    "import numpy as np\n",
    "import pandas as pd\n",
    "import matplotlib.pyplot as plt\n",
    "from sklearn.decomposition import NMF"
   ]
  },
  {
   "cell_type": "markdown",
   "metadata": {},
   "source": [
    "#### Data\n",
    "Datasets used: Movies (ratings_matrix) and Book Crossing dataset (books_data_matrix)"
   ]
  },
  {
   "cell_type": "code",
   "execution_count": null,
   "metadata": {},
   "outputs": [],
   "source": []
  },
  {
   "cell_type": "code",
   "execution_count": 2,
   "metadata": {},
   "outputs": [],
   "source": [
    "LR = 10"
   ]
  },
  {
   "cell_type": "code",
   "execution_count": 3,
   "metadata": {},
   "outputs": [],
   "source": [
    "def ratings_matrix():\n",
    "    train = pd.read_csv(\"movies/ratings.csv\")\n",
    "    train = np.array(train.pivot(index = 'movieId', columns = 'userId', values = 'rating'))\n",
    "    train = np.nan_to_num(train)\n",
    "    return train\n",
    "    "
   ]
  },
  {
   "cell_type": "code",
   "execution_count": null,
   "metadata": {},
   "outputs": [],
   "source": []
  },
  {
   "cell_type": "code",
   "execution_count": 4,
   "metadata": {},
   "outputs": [],
   "source": [
    "def books_data_matrix():\n",
    "    dataset = BookCrossingReader(0.8,0.9)\n",
    "    t = dataset.URM_train.todense().T\n",
    "    return t"
   ]
  },
  {
   "cell_type": "code",
   "execution_count": 5,
   "metadata": {},
   "outputs": [],
   "source": [
    "X = ratings_matrix()\n",
    "# X = books_data_matrix()"
   ]
  },
  {
   "cell_type": "code",
   "execution_count": null,
   "metadata": {},
   "outputs": [],
   "source": []
  },
  {
   "cell_type": "code",
   "execution_count": null,
   "metadata": {},
   "outputs": [],
   "source": []
  },
  {
   "cell_type": "code",
   "execution_count": 7,
   "metadata": {},
   "outputs": [],
   "source": [
    "h, w = X.shape\n",
    "inner = 50"
   ]
  },
  {
   "cell_type": "code",
   "execution_count": null,
   "metadata": {},
   "outputs": [],
   "source": []
  },
  {
   "cell_type": "code",
   "execution_count": 8,
   "metadata": {},
   "outputs": [],
   "source": [
    "W = np.random.random((h, inner))\n",
    "H = np.random.random((inner, w))"
   ]
  },
  {
   "cell_type": "code",
   "execution_count": 9,
   "metadata": {},
   "outputs": [],
   "source": [
    "def cost(X, W, H):\n",
    "    Xwh = np.dot(W, H)\n",
    "    E = X - Xwh\n",
    "    return np.sqrt(LR * np.mean(np.square(E)))"
   ]
  },
  {
   "cell_type": "code",
   "execution_count": 10,
   "metadata": {},
   "outputs": [],
   "source": [
    "def update(X, W, H):\n",
    "    N = np.dot(X, H.T)\n",
    "    D = np.dot(W, H).dot(H.T)\n",
    "    U = np.divide(N, D)\n",
    "    where_are_NaNs = np.isnan(U)\n",
    "    U[where_are_NaNs] = 0\n",
    "    Wu = np.multiply(W, U)\n",
    "    return Wu"
   ]
  },
  {
   "cell_type": "code",
   "execution_count": 11,
   "metadata": {},
   "outputs": [],
   "source": [
    "def optimize(X, W, H):\n",
    "    Wt = update(X, W, H)\n",
    "    Ht = update(X.T, H.T, Wt.T)\n",
    "    cost_value = cost(X, Wt, Ht.T)\n",
    "    return Wt, Ht.T, cost_value"
   ]
  },
  {
   "cell_type": "code",
   "execution_count": 12,
   "metadata": {},
   "outputs": [],
   "source": [
    "losses = []"
   ]
  },
  {
   "cell_type": "code",
   "execution_count": 14,
   "metadata": {
    "scrolled": true
   },
   "outputs": [
    {
     "name": "stdout",
     "output_type": "stream",
     "text": [
      "Cost value: 1.344310062700654\n",
      "Cost value: 1.3270784926936885\n",
      "Cost value: 1.3104314585231807\n",
      "Cost value: 1.2729807219954037\n",
      "Cost value: 1.223217017882504\n",
      "Cost value: 1.1818556877199227\n",
      "Cost value: 1.1498656764802926\n",
      "Cost value: 1.1249140844382088\n",
      "Cost value: 1.1056280184251526\n",
      "Cost value: 1.090472323849949\n",
      "Cost value: 1.078466267423692\n",
      "Cost value: 1.069059014139495\n",
      "Cost value: 1.0616984959250448\n",
      "Cost value: 1.0558996077077922\n",
      "Cost value: 1.051243011299812\n",
      "Cost value: 1.047453715244722\n",
      "Cost value: 1.0443146412762643\n",
      "Cost value: 1.0416822559589252\n",
      "Cost value: 1.0394249738945271\n",
      "Cost value: 1.0374552590251003\n",
      "Cost value: 1.0357138258793848\n",
      "Cost value: 1.0341750070027242\n",
      "Cost value: 1.032810199486384\n",
      "Cost value: 1.0314414926282718\n",
      "Cost value: 1.0302630682036502\n",
      "Cost value: 1.0292042779555355\n",
      "Cost value: 1.028228323019229\n",
      "Cost value: 1.027316251429214\n",
      "Cost value: 1.0264549602815085\n",
      "Cost value: 1.0256410028984289\n",
      "Cost value: 1.0248880978914132\n",
      "Cost value: 1.0242124019919296\n",
      "Cost value: 1.0235857716515027\n",
      "Cost value: 1.0230139710736343\n",
      "Cost value: 1.0224986561484402\n",
      "Cost value: 1.0220286069934064\n",
      "Cost value: 1.0216134053695043\n",
      "Cost value: 1.021233019593909\n",
      "Cost value: 1.0208704202882268\n",
      "Cost value: 1.0205248003258556\n",
      "Cost value: 1.020208721188152\n",
      "Cost value: 1.019908070763343\n",
      "Cost value: 1.0196231072233954\n",
      "Cost value: 1.0193486969195646\n",
      "Cost value: 1.0190783205962948\n",
      "Cost value: 1.0188268051648839\n",
      "Cost value: 1.0185854077717758\n",
      "Cost value: 1.0183472193017244\n",
      "Cost value: 1.0181089273812127\n",
      "Cost value: 1.017866317709886\n",
      "Cost value: 1.0176276653324186\n",
      "Cost value: 1.017401930965224\n",
      "Cost value: 1.0171826252126348\n",
      "Cost value: 1.016969386800431\n",
      "Cost value: 1.016755379943063\n",
      "Cost value: 1.016546493643349\n",
      "Cost value: 1.016356660624442\n",
      "Cost value: 1.0161741494135084\n",
      "Cost value: 1.0160053911779394\n",
      "Cost value: 1.0158499952888635\n",
      "Cost value: 1.015699882999372\n",
      "Cost value: 1.01556392019499\n",
      "Cost value: 1.015429060992177\n",
      "Cost value: 1.0152991518694348\n",
      "Cost value: 1.0151908687495448\n",
      "Cost value: 1.0150832541773973\n",
      "Cost value: 1.0149791918014865\n",
      "Cost value: 1.01488364224047\n",
      "Cost value: 1.014789328593158\n",
      "Cost value: 1.014698017873439\n",
      "Cost value: 1.0146120918602235\n",
      "Cost value: 1.0145278290161723\n",
      "Cost value: 1.0144461756979137\n",
      "Cost value: 1.0143667875264673\n",
      "Cost value: 1.0142856024760445\n",
      "Cost value: 1.0142073134614424\n",
      "Cost value: 1.0141355672021564\n",
      "Cost value: 1.0140688091247456\n",
      "Cost value: 1.014006632850444\n",
      "Cost value: 1.013944504092967\n",
      "Cost value: 1.013880827463828\n",
      "Cost value: 1.0138194780337004\n",
      "Cost value: 1.0137585635243604\n",
      "Cost value: 1.0137021806863609\n",
      "Cost value: 1.013651100151654\n",
      "Cost value: 1.0136002664293737\n",
      "Cost value: 1.013551028270893\n",
      "Cost value: 1.0135031473102956\n",
      "Cost value: 1.0134562922533794\n",
      "Cost value: 1.0134105338619732\n",
      "Cost value: 1.0133657306375339\n",
      "Cost value: 1.0133230206462696\n",
      "Cost value: 1.0132823088395062\n",
      "Cost value: 1.013241543462303\n",
      "Cost value: 1.0132004598459483\n",
      "Cost value: 1.0131585898020887\n",
      "Cost value: 1.013118175653171\n",
      "Cost value: 1.01307965197284\n",
      "Cost value: 1.0130429640280603\n",
      "Cost value: 1.013006263300713\n"
     ]
    }
   ],
   "source": [
    "for i in range(200):\n",
    "    W, H, c = optimize(X, W, H)\n",
    "    losses.append(c)\n",
    "    if i % 2 == 0:\n",
    "        print(\"Cost value: {}\".format(c))"
   ]
  },
  {
   "cell_type": "code",
   "execution_count": 15,
   "metadata": {},
   "outputs": [
    {
     "data": {
      "text/plain": [
       "1.0129874617660903"
      ]
     },
     "execution_count": 15,
     "metadata": {},
     "output_type": "execute_result"
    }
   ],
   "source": [
    "cost(X, W, H)"
   ]
  },
  {
   "cell_type": "code",
   "execution_count": 16,
   "metadata": {},
   "outputs": [
    {
     "data": {
      "text/plain": [
       "[<matplotlib.lines.Line2D at 0x119c6dc88>]"
      ]
     },
     "execution_count": 16,
     "metadata": {},
     "output_type": "execute_result"
    },
    {
     "data": {
      "image/png": "[encoded data removed]",
      "text/plain": [
       "<Figure size 432x288 with 1 Axes>"
      ]
     },
     "metadata": {
      "needs_background": "light"
     },
     "output_type": "display_data"
    }
   ],
   "source": [
    "plt.plot(losses)"
   ]
  },
  {
   "cell_type": "code",
   "execution_count": 82,
   "metadata": {},
   "outputs": [],
   "source": []
  },
  {
   "cell_type": "code",
   "execution_count": null,
   "metadata": {},
   "outputs": [],
   "source": []
  },
  {
   "cell_type": "code",
   "execution_count": null,
   "metadata": {},
   "outputs": [],
   "source": []
  },
  {
   "cell_type": "code",
   "execution_count": null,
   "metadata": {},
   "outputs": [],
   "source": []
  },
  {
   "cell_type": "code",
   "execution_count": null,
   "metadata": {},
   "outputs": [],
   "source": []
  },
  {
   "cell_type": "code",
   "execution_count": null,
   "metadata": {},
   "outputs": [],
   "source": []
  },
  {
   "cell_type": "code",
   "execution_count": null,
   "metadata": {},
   "outputs": [],
   "source": []
  },
  {
   "cell_type": "code",
   "execution_count": null,
   "metadata": {},
   "outputs": [],
   "source": []
  },
  {
   "cell_type": "code",
   "execution_count": null,
   "metadata": {},
   "outputs": [],
   "source": []
  },
  {
   "cell_type": "code",
   "execution_count": null,
   "metadata": {},
   "outputs": [],
   "source": []
  },
  {
   "cell_type": "code",
   "execution_count": null,
   "metadata": {},
   "outputs": [],
   "source": []
  },
  {
   "cell_type": "code",
   "execution_count": 254,
   "metadata": {},
   "outputs": [],
   "source": []
  },
  {
   "cell_type": "code",
   "execution_count": 3,
   "metadata": {},
   "outputs": [],
   "source": [
    "import numpy as np\n",
    "import scipy.sparse as sps\n",
    "import os\n",
    "import random\n",
    "import sys\n",
    "import pandas as pd\n",
    "\n",
    "\n",
    "class BookCrossingReader(object):\n",
    "    #TODO: aggiungere validation option.\n",
    "    def __init__(self, train_test_split=None, train_validation_split=None, delete_popular=None, top_popular_threshold=0.33):\n",
    "        '''\n",
    "        :param train_test_split: is the percentage of the training set\n",
    "        '''\n",
    "\n",
    "\n",
    "        dir = 'BX-CSV-Dump/'\n",
    "        filename = dir+\"/BX-Book-Ratings.csv\"\n",
    "        from numpy import genfromtxt\n",
    "        fileHandle = pd.read_csv(filename, sep=\";\", encoding=\"ISO-8859-1\")\n",
    "        #fileHandle = open(filename, \"r\")\n",
    "\n",
    "        rows, cols, vals = [], [], []\n",
    "        numCells = 0\n",
    "        fileHandle['ISBN'], levels = pd.factorize(fileHandle['ISBN'])\n",
    "        fileHandle['User-ID'], levels = pd.factorize(fileHandle['User-ID'])\n",
    "        print(fileHandle.iloc[0:100])\n",
    "\n",
    "        #fileHandle['User'], levels = pd.factorize(fileHandle['ISBN'] )\n",
    "\n",
    "        #print(fileHandle)\n",
    "\n",
    "        #These arrays are sorted by user\n",
    "        self.users = np.array(fileHandle['User-ID']).astype(int)\n",
    "        self.movies = np.array(fileHandle['ISBN']).astype(int)\n",
    "        self.ratings = np.array(fileHandle['Book-Rating']).astype(float)\n",
    "\n",
    "        if delete_popular:\n",
    "            unique, counts = np.unique(self.movies, return_counts=True)\n",
    "            dictionary = dict(zip(unique, counts))\n",
    "            sorted_dictionary = sorted(dictionary.items(), key=lambda x: x[1])\n",
    "            cutting_index = round(len(sorted_dictionary)*(1-top_popular_threshold))\n",
    "            least_popular_item = [x[0] for x in sorted_dictionary[:cutting_index]]\n",
    "\n",
    "            popular_mask = []\n",
    "            for item in self.movies:\n",
    "\n",
    "                if item in least_popular_item:\n",
    "                    popular_mask.append(True)\n",
    "                else:\n",
    "                    popular_mask.append(False)\n",
    "\n",
    "            self.movies = self.movies[popular_mask]\n",
    "            self.users = self.users[popular_mask]\n",
    "            self.ratings = self.ratings[popular_mask]\n",
    "\n",
    "        self.unique_movies = np.sort(np.unique(self.movies)).astype(int)\n",
    "        self.unique_users = np.sort(np.unique(self.users))\n",
    "        '''\n",
    "        #These arrays are sorted by item\n",
    "        self.users_by_item = np.array(data2[:,0])\n",
    "        self.items_by_item = np.array(data2[:,1])\n",
    "        self.ratings_by_item = np.array(data2[:,2])\n",
    "   \n",
    "        # gli id degli users partono da 1 e sono tutti consecutivi, quindi l'unica\n",
    "        # riga della URM che ha tutti 0 è la prima (riga 0) che quindi eliminiamo\n",
    "        '''\n",
    "        URM_all_partial = sps.csr_matrix((self.ratings, (self.users, self.movies)), dtype=np.float32)\n",
    "        self.URM_all = URM_all_partial\n",
    "        self.URM_all = self.URM_all.tocoo()\n",
    "\n",
    "        num_interactions = self.URM_all.nnz\n",
    "\n",
    "        train_mask = np.random.choice([True, False], num_interactions, p=[train_test_split, 1 - train_test_split])\n",
    "        test_mask = np.logical_not(train_mask)\n",
    "\n",
    "        if train_validation_split is not None:\n",
    "\n",
    "            splitted_test_mask = [random.choice([True, False]) if x else False for x in test_mask]\n",
    "            validation_mask = np.logical_and(np.logical_not(splitted_test_mask), test_mask)\n",
    "\n",
    "            self.URM_validation = sps.csr_matrix((self.ratings[validation_mask], (self.users[validation_mask], self.movies[validation_mask])))\n",
    "\n",
    "        elif train_test_split is not None:\n",
    "            train_mask = np.random.choice([True, False], num_interactions, p=[train_test_split, 1 - train_test_split])\n",
    "\n",
    "            test_mask = np.logical_not(train_mask)\n",
    "\n",
    "        else:\n",
    "            raise Exception(\"One between train_test_split and train_validation_split must be valid\")\n",
    "\n",
    "        #mask = np.random.choice([True, False], len(self.unique_users), p=[0.3, 0.7])\n",
    "\n",
    "        self.URM_test = sps.csr_matrix((self.ratings[test_mask], (self.users[test_mask], self.movies[test_mask])))\n",
    "        print(self.URM_test.nnz)\n",
    "        print(self.URM_test.shape[0])\n",
    "        self.URM_test = self.URM_test[0:1000, :]\n",
    "        print(self.URM_test.nnz)\n",
    "\n",
    "        self.URM_train = sps.csr_matrix((self.ratings[train_mask], (self.users[train_mask], self.movies[train_mask])))\n",
    "        self.URM_train = self.URM_train[0:1000, :]"
   ]
  },
  {
   "cell_type": "code",
   "execution_count": 14,
   "metadata": {},
   "outputs": [],
   "source": []
  },
  {
   "cell_type": "code",
   "execution_count": 11,
   "metadata": {},
   "outputs": [],
   "source": []
  },
  {
   "cell_type": "code",
   "execution_count": null,
   "metadata": {},
   "outputs": [],
   "source": []
  },
  {
   "cell_type": "code",
   "execution_count": null,
   "metadata": {},
   "outputs": [],
   "source": []
  }
 ],
 "metadata": {
  "kernelspec": {
   "display_name": "Python 3",
   "language": "python",
   "name": "python3"
  },
  "language_info": {
   "codemirror_mode": {
    "name": "ipython",
    "version": 3
   },
   "file_extension": ".py",
   "mimetype": "text/x-python",
   "name": "python",
   "nbconvert_exporter": "python",
   "pygments_lexer": "ipython3",
   "version": "3.7.0"
  }
 },
 "nbformat": 4,
 "nbformat_minor": 2
}
